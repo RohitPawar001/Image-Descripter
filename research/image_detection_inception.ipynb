{
 "cells": [
  {
   "cell_type": "code",
   "execution_count": null,
   "metadata": {},
   "outputs": [],
   "source": [
    "import torch\n",
    "from torchvision import models, transforms\n",
    "from PIL import Image\n",
    "import json\n",
    "import requests\n",
    "from io import BytesIO"
   ]
  },
  {
   "cell_type": "code",
   "execution_count": null,
   "metadata": {},
   "outputs": [
    {
     "name": "stdout",
     "output_type": "stream",
     "text": [
      "tiger cat\n"
     ]
    }
   ],
   "source": [
    "class ImagePredicator:\n",
    "    def __init__(self):\n",
    "        pass\n",
    "    \n",
    "    def predict_image(self,image,top_k=1): \n",
    "        \n",
    "        model = models.inception_v3(pretrained=True)\n",
    "        model.eval()  \n",
    "\n",
    "        # Create the preprocessing pipeline\n",
    "        preprocess = transforms.Compose([\n",
    "            transforms.Resize(299),  \n",
    "            transforms.CenterCrop(299),\n",
    "            transforms.ToTensor(),\n",
    "            transforms.Normalize(mean=[0.485, 0.456, 0.406], std=[0.229, 0.224, 0.225]),\n",
    "        ])\n",
    "\n",
    "        \n",
    "        image = Image.open(image)\n",
    "            \n",
    "            \n",
    "        if image.mode != 'RGB':\n",
    "            image = image.convert('RGB')\n",
    "            \n",
    "            \n",
    "        input_tensor = preprocess(image)\n",
    "        input_batch = input_tensor.unsqueeze(0)  # Add batch dimension\n",
    "            \n",
    "            \n",
    "        if torch.cuda.is_available():\n",
    "            input_batch = input_batch.to('cuda')\n",
    "            model.to('cuda')\n",
    "            \n",
    "            # Perform inference\n",
    "        with torch.no_grad():\n",
    "            output = model(input_batch)\n",
    "            \n",
    "           \n",
    "        probabilities = torch.nn.functional.softmax(output[0], dim=0)\n",
    "            \n",
    "            \n",
    "        top_probs, top_indices = torch.topk(probabilities, top_k)\n",
    "            \n",
    "            \n",
    "        try:\n",
    "            with open('imagenet_class_index.json') as f:\n",
    "                class_idx = json.load(f)\n",
    "        except FileNotFoundError:\n",
    "            url = \"https://raw.githubusercontent.com/anishathalye/imagenet-simple-labels/master/imagenet-simple-labels.json\"\n",
    "            response = requests.get(url)\n",
    "            class_names = response.json()\n",
    "            class_idx = {str(i): [str(i), name] for i, name in enumerate(class_names)}\n",
    "            with open('imagenet_class_index.json', 'w') as f:\n",
    "                json.dump(class_idx, f)\n",
    "            \n",
    "            \n",
    "        results = []\n",
    "        for i in range(top_k):\n",
    "            idx = top_indices[i].item()\n",
    "            results.append({\n",
    "                'class': class_idx[str(idx)][1],\n",
    "                'probability': top_probs[i].item()\n",
    "            })\n",
    "            \n",
    "        return results\n",
    "\n",
    "       \n",
    "image_path = \"C:\\\\Users\\\\rppaw\\\\OneDrive\\\\Pictures\\\\Screenshots\\\\screen.png\"  \n",
    "i = ImagePredicator()\n",
    "predictions = i.predict_image(image_path, top_k=5)\n",
    "print(predictions[0][\"class\"])\n"
   ]
  },
  {
   "cell_type": "code",
   "execution_count": null,
   "metadata": {},
   "outputs": [],
   "source": []
  }
 ],
 "metadata": {
  "kernelspec": {
   "display_name": "Python 3",
   "language": "python",
   "name": "python3"
  },
  "language_info": {
   "codemirror_mode": {
    "name": "ipython",
    "version": 3
   },
   "file_extension": ".py",
   "mimetype": "text/x-python",
   "name": "python",
   "nbconvert_exporter": "python",
   "pygments_lexer": "ipython3",
   "version": "3.12.2"
  }
 },
 "nbformat": 4,
 "nbformat_minor": 2
}
